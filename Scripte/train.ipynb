{
 "cells": [
  {
   "cell_type": "code",
   "execution_count": 8,
   "metadata": {},
   "outputs": [],
   "source": [
    "import torch\n",
    "import torchaudio\n",
    "from torch import nn\n",
    "from torch.nn import functional as F\n",
    "from torch.utils.data import Dataset, DataLoader\n",
    "import lightning.pytorch as pl\n",
    "from lightning.pytorch.loggers import TensorBoardLogger\n",
    "import os\n",
    "import matplotlib.pyplot as plt\n",
    "import pandas as pd\n",
    "from IPython.display import Audio\n",
    "from IPython.display import clear_output, display\n",
    "import librosa\n",
    "import math\n",
    "import datetime\n",
    "import time\n",
    "import numpy as np\n",
    "\n",
    "#Eigene Sachen\n",
    "from train import *\n",
    "from data.data import *\n",
    "from util.util import *\n",
    "from util.datasets import *\n",
    "from util.audio_processing import *\n",
    "import util.plot as plot\n",
    "import models\n",
    "import tqdm"
   ]
  },
  {
   "cell_type": "code",
   "execution_count": 2,
   "metadata": {},
   "outputs": [],
   "source": [
    "model = models.CNN(channels=64)"
   ]
  },
  {
   "cell_type": "code",
   "execution_count": 3,
   "metadata": {},
   "outputs": [
    {
     "name": "stderr",
     "output_type": "stream",
     "text": [
      "GPU available: True (cuda), used: True\n",
      "TPU available: False, using: 0 TPU cores\n",
      "IPU available: False, using: 0 IPUs\n",
      "HPU available: False, using: 0 HPUs\n",
      "LOCAL_RANK: 0 - CUDA_VISIBLE_DEVICES: [0]\n"
     ]
    }
   ],
   "source": [
    "result = test_model(model)"
   ]
  },
  {
   "cell_type": "code",
   "execution_count": 7,
   "metadata": {},
   "outputs": [],
   "source": [
    "x,y = dataset_test[2930]"
   ]
  },
  {
   "cell_type": "code",
   "execution_count": 8,
   "metadata": {},
   "outputs": [
    {
     "data": {
      "text/plain": [
       "tensor([ 0.0010, -0.1118, -0.1193, -0.1350, -0.1398, -0.1800, -0.1455, -0.1461,\n",
       "        -0.1401, -0.1779, -0.1058, -0.1478, -0.1342, -0.1485, -0.1442, -0.1131,\n",
       "        -0.1487, -0.1088, -0.0226, -0.1468,  0.0186, -0.0904, -0.1129, -0.2029,\n",
       "        -0.1746, -0.1249, -0.1732, -0.1394, -0.1356, -0.1010, -0.1125, -0.1970,\n",
       "        -0.1101, -0.0064,  0.4463,  0.1204,  0.0143, -0.1718,  0.2921, -0.1559,\n",
       "        -0.3731,  0.5834,  0.0889,  0.2906, -0.0174,  0.0154, -0.0857, -0.2103,\n",
       "        -0.1942, -0.0078,  0.0363, -0.0857,  0.1589, -0.1635, -0.2714,  0.0173,\n",
       "        -0.3878,  0.4113,  0.0885,  0.2659, -0.3715, -0.3291, -0.1611, -0.3512,\n",
       "        -0.1775, -0.1493, -0.1307, -0.1303, -0.1391, -0.1137, -0.1680, -0.1507,\n",
       "        -0.1780, -0.1700, -0.1661, -0.1519, -0.1284, -0.1521, -0.1690, -0.1456,\n",
       "        -0.1658, -0.1678, -0.2162, -0.1346, -0.1514, -0.1489, -0.0986, -0.0935,\n",
       "        -0.1028, -0.1581, -0.1293, -0.1610, -0.1355, -0.1175, -0.1735, -0.1211],\n",
       "       grad_fn=<SqueezeBackward0>)"
      ]
     },
     "execution_count": 8,
     "metadata": {},
     "output_type": "execute_result"
    }
   ],
   "source": [
    "model(x)"
   ]
  },
  {
   "cell_type": "code",
   "execution_count": 2,
   "metadata": {},
   "outputs": [
    {
     "name": "stderr",
     "output_type": "stream",
     "text": [
      "Using 16bit Automatic Mixed Precision (AMP)\n",
      "GPU available: True (cuda), used: True\n",
      "TPU available: False, using: 0 TPU cores\n",
      "IPU available: False, using: 0 IPUs\n",
      "HPU available: False, using: 0 HPUs\n",
      "`Trainer(limit_val_batches=1.0)` was configured so 100% of the batches will be used..\n",
      "Missing logger folder: lightning_logs\\CNN\n",
      "LOCAL_RANK: 0 - CUDA_VISIBLE_DEVICES: [0]\n",
      "\n",
      "   | Name     | Type           | Params\n",
      "---------------------------------------------\n",
      "0  | accuracy | BinaryAccuracy | 0     \n",
      "1  | conv1    | Conv1d         | 10.3 K\n",
      "2  | bn1      | BatchNorm1d    | 128   \n",
      "3  | pool1    | MaxPool1d      | 0     \n",
      "4  | conv2    | Conv1d         | 16.4 K\n",
      "5  | bn2      | BatchNorm1d    | 128   \n",
      "6  | pool2    | MaxPool1d      | 0     \n",
      "7  | conv3    | Conv1d         | 8.3 K \n",
      "8  | bn3      | BatchNorm1d    | 128   \n",
      "9  | pool3    | MaxPool1d      | 0     \n",
      "10 | fc1      | Linear         | 65    \n",
      "---------------------------------------------\n",
      "35.5 K    Trainable params\n",
      "0         Non-trainable params\n",
      "35.5 K    Total params\n",
      "0.142     Total estimated model params size (MB)\n"
     ]
    },
    {
     "data": {
      "application/vnd.jupyter.widget-view+json": {
       "model_id": "8c45d812c12542e38e4c8ec777cbeff4",
       "version_major": 2,
       "version_minor": 0
      },
      "text/plain": [
       "Sanity Checking: 0it [00:00, ?it/s]"
      ]
     },
     "metadata": {},
     "output_type": "display_data"
    },
    {
     "data": {
      "application/vnd.jupyter.widget-view+json": {
       "model_id": "257ef3cb1bc543beb13375c736017bb8",
       "version_major": 2,
       "version_minor": 0
      },
      "text/plain": [
       "Training: 0it [00:00, ?it/s]"
      ]
     },
     "metadata": {},
     "output_type": "display_data"
    },
    {
     "name": "stderr",
     "output_type": "stream",
     "text": [
      "C:\\Users\\Jonas\\AppData\\Roaming\\Python\\Python39\\site-packages\\lightning\\pytorch\\trainer\\call.py:54: UserWarning: Detected KeyboardInterrupt, attempting graceful shutdown...\n",
      "  rank_zero_warn(\"Detected KeyboardInterrupt, attempting graceful shutdown...\")\n"
     ]
    }
   ],
   "source": [
    "#Lädt Model\n",
    "model = models.CNN(channels=64)\n",
    "#model = models.DeepCNN(n_blocks=2)\n",
    "\n",
    "#compiled_model = torch.compile(model) -> does leed to bugs -> update dependencies?\n",
    "\n",
    "train_model(model, max_epochs=2)"
   ]
  }
 ],
 "metadata": {
  "kernelspec": {
   "display_name": "Python 3",
   "language": "python",
   "name": "python3"
  },
  "language_info": {
   "codemirror_mode": {
    "name": "ipython",
    "version": 3
   },
   "file_extension": ".py",
   "mimetype": "text/x-python",
   "name": "python",
   "nbconvert_exporter": "python",
   "pygments_lexer": "ipython3",
   "version": "3.9.13"
  },
  "orig_nbformat": 4,
  "vscode": {
   "interpreter": {
    "hash": "11938c6bc6919ae2720b4d5011047913343b08a43b18698fd82dedb0d4417594"
   }
  }
 },
 "nbformat": 4,
 "nbformat_minor": 2
}
