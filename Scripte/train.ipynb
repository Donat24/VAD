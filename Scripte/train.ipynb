{
 "cells": [
  {
   "cell_type": "code",
   "execution_count": 10,
   "metadata": {},
   "outputs": [],
   "source": [
    "import torch\n",
    "import torchaudio\n",
    "from torch import nn\n",
    "from torch.nn import functional as F\n",
    "from torch.utils.data import Dataset, DataLoader\n",
    "import lightning.pytorch as pl\n",
    "from lightning.pytorch.loggers import TensorBoardLogger\n",
    "import os\n",
    "import matplotlib.pyplot as plt\n",
    "import pandas as pd\n",
    "from IPython.display import Audio\n",
    "from IPython.display import clear_output, display\n",
    "import librosa\n",
    "import math\n",
    "import datetime\n",
    "import time\n",
    "import numpy as np\n",
    "\n",
    "#Eigene Sachen\n",
    "from train import train_model\n",
    "from data.data import *\n",
    "from util.util import *\n",
    "from util.datasets import *\n",
    "from util.audio_processing import *\n",
    "import util.plot as plot\n",
    "import models"
   ]
  },
  {
   "cell_type": "code",
   "execution_count": 11,
   "metadata": {},
   "outputs": [
    {
     "name": "stdout",
     "output_type": "stream",
     "text": [
      "Defaulting to user installation because normal site-packages is not writeable\n",
      "Requirement already satisfied: lion-pytorch in /home/ogu/.local/lib/python3.10/site-packages (0.0.7)\n",
      "Requirement already satisfied: torch>=1.6 in /home/ogu/.local/lib/python3.10/site-packages (from lion-pytorch) (2.0.0)\n",
      "Requirement already satisfied: nvidia-cufft-cu11==10.9.0.58 in /home/ogu/.local/lib/python3.10/site-packages (from torch>=1.6->lion-pytorch) (10.9.0.58)\n",
      "Requirement already satisfied: jinja2 in /usr/lib/python3/dist-packages (from torch>=1.6->lion-pytorch) (3.0.3)\n",
      "Requirement already satisfied: filelock in /home/ogu/.local/lib/python3.10/site-packages (from torch>=1.6->lion-pytorch) (3.10.7)\n",
      "Requirement already satisfied: nvidia-cuda-nvrtc-cu11==11.7.99 in /home/ogu/.local/lib/python3.10/site-packages (from torch>=1.6->lion-pytorch) (11.7.99)\n",
      "Requirement already satisfied: nvidia-curand-cu11==10.2.10.91 in /home/ogu/.local/lib/python3.10/site-packages (from torch>=1.6->lion-pytorch) (10.2.10.91)\n",
      "Requirement already satisfied: nvidia-cuda-runtime-cu11==11.7.99 in /home/ogu/.local/lib/python3.10/site-packages (from torch>=1.6->lion-pytorch) (11.7.99)\n",
      "Requirement already satisfied: nvidia-cusparse-cu11==11.7.4.91 in /home/ogu/.local/lib/python3.10/site-packages (from torch>=1.6->lion-pytorch) (11.7.4.91)\n",
      "Requirement already satisfied: nvidia-cudnn-cu11==8.5.0.96 in /home/ogu/.local/lib/python3.10/site-packages (from torch>=1.6->lion-pytorch) (8.5.0.96)\n",
      "Requirement already satisfied: triton==2.0.0 in /home/ogu/.local/lib/python3.10/site-packages (from torch>=1.6->lion-pytorch) (2.0.0)\n",
      "Requirement already satisfied: nvidia-nccl-cu11==2.14.3 in /home/ogu/.local/lib/python3.10/site-packages (from torch>=1.6->lion-pytorch) (2.14.3)\n",
      "Requirement already satisfied: nvidia-cusolver-cu11==11.4.0.1 in /home/ogu/.local/lib/python3.10/site-packages (from torch>=1.6->lion-pytorch) (11.4.0.1)\n",
      "Requirement already satisfied: networkx in /home/ogu/.local/lib/python3.10/site-packages (from torch>=1.6->lion-pytorch) (3.0)\n",
      "Requirement already satisfied: nvidia-nvtx-cu11==11.7.91 in /home/ogu/.local/lib/python3.10/site-packages (from torch>=1.6->lion-pytorch) (11.7.91)\n",
      "Requirement already satisfied: nvidia-cublas-cu11==11.10.3.66 in /home/ogu/.local/lib/python3.10/site-packages (from torch>=1.6->lion-pytorch) (11.10.3.66)\n",
      "Requirement already satisfied: typing-extensions in /home/ogu/.local/lib/python3.10/site-packages (from torch>=1.6->lion-pytorch) (4.5.0)\n",
      "Requirement already satisfied: nvidia-cuda-cupti-cu11==11.7.101 in /home/ogu/.local/lib/python3.10/site-packages (from torch>=1.6->lion-pytorch) (11.7.101)\n",
      "Requirement already satisfied: sympy in /home/ogu/.local/lib/python3.10/site-packages (from torch>=1.6->lion-pytorch) (1.11.1)\n",
      "Requirement already satisfied: wheel in /home/ogu/.local/lib/python3.10/site-packages (from nvidia-cublas-cu11==11.10.3.66->torch>=1.6->lion-pytorch) (0.40.0)\n",
      "Requirement already satisfied: setuptools in /usr/lib/python3/dist-packages (from nvidia-cublas-cu11==11.10.3.66->torch>=1.6->lion-pytorch) (59.6.0)\n",
      "Requirement already satisfied: cmake in /home/ogu/.local/lib/python3.10/site-packages (from triton==2.0.0->torch>=1.6->lion-pytorch) (3.26.1)\n",
      "Requirement already satisfied: lit in /home/ogu/.local/lib/python3.10/site-packages (from triton==2.0.0->torch>=1.6->lion-pytorch) (16.0.0)\n",
      "Requirement already satisfied: mpmath>=0.19 in /home/ogu/.local/lib/python3.10/site-packages (from sympy->torch>=1.6->lion-pytorch) (1.3.0)\n"
     ]
    }
   ],
   "source": [
    "!pip install lion-pytorch"
   ]
  },
  {
   "cell_type": "code",
   "execution_count": 13,
   "metadata": {},
   "outputs": [],
   "source": [
    "class Demo(models.SimpleLightningBase):\n",
    "    def __init__(self, input_size) -> None:\n",
    "        \n",
    "        super().__init__()\n",
    "        \n",
    "        self.fc1 = nn.Linear(input_size, 512)\n",
    "        self.fc2 = nn.Linear(512,512)\n",
    "        self.fc3 = nn.Linear(512,128)\n",
    "        self.fc4 = nn.Linear(128,64)\n",
    "        self.fc5 = nn.Linear(64,1)\n",
    "    \n",
    "    def forward(self, x):\n",
    "        \n",
    "        #forward\n",
    "        out = torch.relu(self.fc1(x))\n",
    "        out = torch.relu(self.fc2(out))\n",
    "        out = torch.relu(self.fc3(out))\n",
    "        out = torch.relu(self.fc4(out))\n",
    "        out = self.fc5(out)\n",
    "\n",
    "        return out.view(out.shape[0])"
   ]
  },
  {
   "cell_type": "code",
   "execution_count": 14,
   "metadata": {},
   "outputs": [
    {
     "name": "stderr",
     "output_type": "stream",
     "text": [
      "Using 16bit Automatic Mixed Precision (AMP)\n",
      "GPU available: True (cuda), used: True\n",
      "TPU available: False, using: 0 TPU cores\n",
      "IPU available: False, using: 0 IPUs\n",
      "HPU available: False, using: 0 HPUs\n",
      "`Trainer(limit_val_batches=1.0)` was configured so 100% of the batches will be used..\n",
      "LOCAL_RANK: 0 - CUDA_VISIBLE_DEVICES: [0]\n",
      "\n",
      "   | Name     | Type           | Params\n",
      "---------------------------------------------\n",
      "0  | accuracy | BinaryAccuracy | 0     \n",
      "1  | conv1    | Conv1d         | 10.3 K\n",
      "2  | bn1      | BatchNorm1d    | 128   \n",
      "3  | pool1    | MaxPool1d      | 0     \n",
      "4  | conv2    | Conv1d         | 16.4 K\n",
      "5  | bn2      | BatchNorm1d    | 128   \n",
      "6  | pool2    | MaxPool1d      | 0     \n",
      "7  | conv3    | Conv1d         | 8.3 K \n",
      "8  | bn3      | BatchNorm1d    | 128   \n",
      "9  | pool3    | MaxPool1d      | 0     \n",
      "10 | fc1      | Linear         | 65    \n",
      "---------------------------------------------\n",
      "35.5 K    Trainable params\n",
      "0         Non-trainable params\n",
      "35.5 K    Total params\n",
      "0.142     Total estimated model params size (MB)\n"
     ]
    },
    {
     "name": "stdout",
     "output_type": "stream",
     "text": [
      "Epoch 0:   3%|▎         | 1000/38089 [00:23<14:17, 43.24it/s, v_num=14]     "
     ]
    },
    {
     "name": "stderr",
     "output_type": "stream",
     "text": [
      "/mnt/data/source/VAD/venv/lib/python3.10/site-packages/lightning/pytorch/trainer/call.py:54: UserWarning: Detected KeyboardInterrupt, attempting graceful shutdown...\n",
      "  rank_zero_warn(\"Detected KeyboardInterrupt, attempting graceful shutdown...\")\n"
     ]
    }
   ],
   "source": [
    "torch.set_float32_matmul_precision('high')\n",
    "#Lädt Model\n",
    "model = models.CNN(channels=64)\n",
    "#model = models.DeepCNN(n_blocks=2)\n",
    "\n",
    "#compiled_model = torch.compile(model) -> does leed to bugs -> update dependencies?\n",
    "\n",
    "train_model(model,max_epochs=3)"
   ]
  }
 ],
 "metadata": {
  "kernelspec": {
   "display_name": "Python 3 (ipykernel)",
   "language": "python",
   "name": "python3"
  },
  "language_info": {
   "codemirror_mode": {
    "name": "ipython",
    "version": 3
   },
   "file_extension": ".py",
   "mimetype": "text/x-python",
   "name": "python",
   "nbconvert_exporter": "python",
   "pygments_lexer": "ipython3",
   "version": "3.10.6"
  },
  "orig_nbformat": 4,
  "vscode": {
   "interpreter": {
    "hash": "cee0cb6221e22e7f138fa0e64e58572bbbb1b16eb4de42db20b265c52fdc68b5"
   }
  }
 },
 "nbformat": 4,
 "nbformat_minor": 2
}
