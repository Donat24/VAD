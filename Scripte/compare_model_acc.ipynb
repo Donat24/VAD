{
 "cells": [
  {
   "cell_type": "code",
   "execution_count": 1,
   "metadata": {},
   "outputs": [],
   "source": [
    "import torch\n",
    "import torchaudio\n",
    "from nnAudio import features\n",
    "from torch import nn\n",
    "from torch.nn import functional as F\n",
    "from torch.utils.data import Dataset, DataLoader\n",
    "import lightning.pytorch as pl\n",
    "from lightning.pytorch.loggers import TensorBoardLogger\n",
    "import os\n",
    "import matplotlib.pyplot as plt\n",
    "import pandas as pd\n",
    "from IPython.display import Audio\n",
    "from IPython.display import clear_output, display\n",
    "import librosa\n",
    "import math\n",
    "import datetime\n",
    "import time\n",
    "import numpy as np\n",
    "import random\n",
    "\n",
    "#Eigene Sachen\n",
    "from train import *\n",
    "from data.data import *\n",
    "from util.util import *\n",
    "from util.helper import *\n",
    "from util.datasets import *\n",
    "from util.audio_processing import *\n",
    "import util.plot as plot\n",
    "import util.metric as metric\n",
    "import models\n",
    "import tqdm"
   ]
  },
  {
   "cell_type": "code",
   "execution_count": 12,
   "metadata": {},
   "outputs": [
    {
     "name": "stderr",
     "output_type": "stream",
     "text": [
      "5120it [00:16, 318.96it/s]"
     ]
    },
    {
     "name": "stdout",
     "output_type": "stream",
     "text": [
      "Genauigkeit 78.69%\n"
     ]
    },
    {
     "name": "stderr",
     "output_type": "stream",
     "text": [
      "\n"
     ]
    }
   ],
   "source": [
    "model = models.CNN.load_from_checkpoint(\n",
    "    #Path\n",
    "    checkpoint_path=r\"./lightning_logs/CNN/version_0/checkpoints/last.ckpt\",\n",
    "    \n",
    "    #Params\n",
    "    channels = 64,\n",
    ")\n",
    "model.cpu()\n",
    "result = test_model(model)\n",
    "print(\"Genauigkeit {:.2f}%\".format( np.average([item[\"acc\"]for item in result]) * 100))"
   ]
  },
  {
   "cell_type": "code",
   "execution_count": 2,
   "metadata": {},
   "outputs": [
    {
     "name": "stderr",
     "output_type": "stream",
     "text": [
      "5120it [00:54, 93.67it/s] "
     ]
    },
    {
     "name": "stdout",
     "output_type": "stream",
     "text": [
      "Genauigkeit 81.49%\n"
     ]
    },
    {
     "name": "stderr",
     "output_type": "stream",
     "text": [
      "\n"
     ]
    }
   ],
   "source": [
    "model = models.CNN.load_from_checkpoint(\n",
    "    #Path\n",
    "    checkpoint_path=r\"./lightning_logs/CNN_CONTEXT_LENGTH-512/version_0/checkpoints/last.ckpt\",\n",
    "    \n",
    "    #Params\n",
    "    channels = 64,\n",
    ")\n",
    "model.cpu()\n",
    "result = test_model(model)\n",
    "print(\"Genauigkeit {:.2f}%\".format( np.average([item[\"acc\"]for item in result]) * 100))"
   ]
  },
  {
   "cell_type": "code",
   "execution_count": 3,
   "metadata": {},
   "outputs": [
    {
     "name": "stderr",
     "output_type": "stream",
     "text": [
      "5120it [02:07, 40.20it/s]"
     ]
    },
    {
     "name": "stdout",
     "output_type": "stream",
     "text": [
      "Genauigkeit 83.50%\n"
     ]
    },
    {
     "name": "stderr",
     "output_type": "stream",
     "text": [
      "\n"
     ]
    }
   ],
   "source": [
    "model = models.CNN.load_from_checkpoint(\n",
    "    #Path\n",
    "    checkpoint_path=r\"./lightning_logs/CNN_CONTEXT_LENGTH-1536/version_0/checkpoints/last.ckpt\",\n",
    "    \n",
    "    #Params\n",
    "    channels = 64,\n",
    ")\n",
    "model.cpu()\n",
    "result = test_model(model)\n",
    "print(\"Genauigkeit {:.2f}%\".format( np.average([item[\"acc\"]for item in result]) * 100))"
   ]
  },
  {
   "cell_type": "code",
   "execution_count": 2,
   "metadata": {},
   "outputs": [
    {
     "name": "stderr",
     "output_type": "stream",
     "text": [
      "5120it [00:56, 91.40it/s] "
     ]
    },
    {
     "name": "stdout",
     "output_type": "stream",
     "text": [
      "Genauigkeit 82.00%\n"
     ]
    },
    {
     "name": "stderr",
     "output_type": "stream",
     "text": [
      "\n"
     ]
    }
   ],
   "source": [
    "model = models.FFTCNN.load_from_checkpoint(\n",
    "    #Path\n",
    "    checkpoint_path=r\"./lightning_logs/FFTCNN/version_0/checkpoints/last.ckpt\",\n",
    ")\n",
    "model.cpu()\n",
    "result = test_model(model)\n",
    "print(\"Genauigkeit {:.2f}%\".format( np.average([item[\"acc\"]for item in result]) * 100))"
   ]
  },
  {
   "cell_type": "code",
   "execution_count": 4,
   "metadata": {},
   "outputs": [
    {
     "name": "stderr",
     "output_type": "stream",
     "text": [
      "5120it [02:47, 30.58it/s]"
     ]
    },
    {
     "name": "stdout",
     "output_type": "stream",
     "text": [
      "Genauigkeit 83.12%\n"
     ]
    },
    {
     "name": "stderr",
     "output_type": "stream",
     "text": [
      "\n"
     ]
    }
   ],
   "source": [
    "model = models.FFTCNN.load_from_checkpoint(\n",
    "    #Path\n",
    "    checkpoint_path=r\"lightning_logs/FFTCNN_CONTEXT_LENGTH-512/version_0/checkpoints/last.ckpt\",\n",
    "\n",
    "    #Params\n",
    "    fft_window = torch.hann_window(1024)\n",
    ")\n",
    "model.cpu()\n",
    "result = test_model(model)\n",
    "print(\"Genauigkeit {:.2f}%\".format( np.average([item[\"acc\"]for item in result]) * 100))"
   ]
  },
  {
   "cell_type": "code",
   "execution_count": 2,
   "metadata": {},
   "outputs": [
    {
     "name": "stderr",
     "output_type": "stream",
     "text": [
      "5120it [00:17, 296.25it/s]"
     ]
    },
    {
     "name": "stdout",
     "output_type": "stream",
     "text": [
      "Genauigkeit 81.05%\n"
     ]
    },
    {
     "name": "stderr",
     "output_type": "stream",
     "text": [
      "\n"
     ]
    }
   ],
   "source": [
    "model = models.MELCNN.load_from_checkpoint(\n",
    "    #Path\n",
    "    checkpoint_path=r\"lightning_logs/MELCNN/version_0/checkpoints/last.ckpt\",\n",
    "\n",
    "    #Params\n",
    "    sr = SAMPLE_RATE,\n",
    ")\n",
    "model.cpu()\n",
    "result = test_model(model)\n",
    "print(\"Genauigkeit {:.2f}%\".format( np.average([item[\"acc\"]for item in result]) * 100))"
   ]
  },
  {
   "cell_type": "code",
   "execution_count": 2,
   "metadata": {},
   "outputs": [
    {
     "name": "stderr",
     "output_type": "stream",
     "text": [
      "5120it [00:24, 207.74it/s]"
     ]
    },
    {
     "name": "stdout",
     "output_type": "stream",
     "text": [
      "Genauigkeit 87.50%\n"
     ]
    },
    {
     "name": "stderr",
     "output_type": "stream",
     "text": [
      "\n"
     ]
    }
   ],
   "source": [
    "model = models.MELCNN.load_from_checkpoint(\n",
    "    #Path\n",
    "    checkpoint_path=r\"lightning_logs/MELCNN_CONTEXT_LENGTH-3584/version_0/checkpoints/last.ckpt\",\n",
    "\n",
    "    #Params\n",
    "    sr = SAMPLE_RATE,\n",
    "    fft_window = torch.hann_window(4096)\n",
    ")\n",
    "model.cpu()\n",
    "result = test_model(model)\n",
    "print(\"Genauigkeit {:.2f}%\".format( np.average([item[\"acc\"]for item in result]) * 100))"
   ]
  },
  {
   "cell_type": "code",
   "execution_count": 3,
   "metadata": {},
   "outputs": [
    {
     "name": "stderr",
     "output_type": "stream",
     "text": [
      "5120it [00:24, 211.20it/s]"
     ]
    },
    {
     "name": "stdout",
     "output_type": "stream",
     "text": [
      "Genauigkeit 84.14%\n"
     ]
    },
    {
     "name": "stderr",
     "output_type": "stream",
     "text": [
      "\n"
     ]
    }
   ],
   "source": [
    "model = models.MELCNN.load_from_checkpoint(\n",
    "    #Path\n",
    "    checkpoint_path=r\"lightning_logs/MELCNN_CONTEXT_LENGTH-3584_n_mels-32/version_0/checkpoints/last.ckpt\",\n",
    "\n",
    "    #Params\n",
    "    sr         = SAMPLE_RATE,\n",
    "    n_mels     = 32,\n",
    "    fft_window = torch.hann_window(4096)\n",
    ")\n",
    "model.cpu()\n",
    "result = test_model(model)\n",
    "print(\"Genauigkeit {:.2f}%\".format( np.average([item[\"acc\"]for item in result]) * 100))"
   ]
  },
  {
   "cell_type": "code",
   "execution_count": 3,
   "metadata": {},
   "outputs": [
    {
     "name": "stdout",
     "output_type": "stream",
     "text": [
      "STFT kernels created, time used = 0.0047 seconds\n"
     ]
    },
    {
     "name": "stderr",
     "output_type": "stream",
     "text": [
      "0it [00:00, ?it/s]/mnt/data/source_jonas/VAD/Scripte/ENV/lib/python3.10/site-packages/torch/nn/modules/conv.py:459: UserWarning: Using padding='same' with even kernel lengths and odd dilation may require a zero-padded copy of the input be created (Triggered internally at ../aten/src/ATen/native/Convolution.cpp:1003.)\n",
      "  return F.conv2d(input, weight, bias, self.stride,\n",
      "5120it [50:42,  1.68it/s]"
     ]
    },
    {
     "name": "stdout",
     "output_type": "stream",
     "text": [
      "Genauigkeit 91.33%\n"
     ]
    },
    {
     "name": "stderr",
     "output_type": "stream",
     "text": [
      "\n"
     ]
    }
   ],
   "source": [
    "model = models.STFTCNN.load_from_checkpoint(\n",
    "    #Path\n",
    "    checkpoint_path=r\"lightning_logs/STFTCNN_CONTEXT_LENGTH-4096/version_2/checkpoints/last.ckpt\",\n",
    "\n",
    "    #Params\n",
    "    stft_sr=SAMPLE_RATE\n",
    ")\n",
    "model.cpu()\n",
    "result = test_model(model)\n",
    "print(\"Genauigkeit {:.2f}%\".format( np.average([item[\"acc\"]for item in result]) * 100))"
   ]
  }
 ],
 "metadata": {
  "kernelspec": {
   "display_name": "Python 3",
   "language": "python",
   "name": "python3"
  },
  "language_info": {
   "codemirror_mode": {
    "name": "ipython",
    "version": 3
   },
   "file_extension": ".py",
   "mimetype": "text/x-python",
   "name": "python",
   "nbconvert_exporter": "python",
   "pygments_lexer": "ipython3",
   "version": "3.10.6"
  },
  "orig_nbformat": 4,
  "vscode": {
   "interpreter": {
    "hash": "11938c6bc6919ae2720b4d5011047913343b08a43b18698fd82dedb0d4417594"
   }
  }
 },
 "nbformat": 4,
 "nbformat_minor": 2
}
