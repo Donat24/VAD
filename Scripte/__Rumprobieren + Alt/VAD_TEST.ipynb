{
 "cells": [
  {
   "cell_type": "code",
   "execution_count": null,
   "metadata": {},
   "outputs": [],
   "source": [
    "import pandas as pd\n",
    "import os\n",
    "import webrtcvad\n",
    "import librosa\n",
    "import librosa.display\n",
    "import IPython.display as ipd\n",
    "from pydub import AudioSegment\n",
    "import wave\n",
    "import io\n",
    "import soundfile as sf\n",
    "import contextlib"
   ]
  },
  {
   "cell_type": "code",
   "execution_count": null,
   "metadata": {},
   "outputs": [],
   "source": [
    "#Konstanten\n",
    "TARGET_SAMPLE_RATE = 16000\n",
    "WAVE_TYPE = \"PCM_16\"\n",
    "\n",
    "#IO\n",
    "READ_PATH = \"./Samples_Unprocessed/\"\n",
    "WRITE_PATH = \"./Samples_Processed/\""
   ]
  },
  {
   "cell_type": "markdown",
   "metadata": {},
   "source": [
    "## PREPROCESSING"
   ]
  },
  {
   "cell_type": "code",
   "execution_count": null,
   "metadata": {},
   "outputs": [],
   "source": [
    "#Lädt alle Sampless\n",
    "samples = []\n",
    "\n",
    "for subdir, dirs, files in os.walk(READ_PATH):\n",
    "    for file in files:\n",
    "        filepath = os.path.join(subdir, file)\n",
    "        audio_time_series, sample_rate = librosa.load(filepath,sr=None,mono=True)\n",
    "        \n",
    "        #Fügt neue Zeile an\n",
    "        samples.append({\n",
    "            \"filename\"                :file,\n",
    "            \"filepath\"                :filepath,\n",
    "            \"audio_time_series\"       :audio_time_series,\n",
    "            \"audio_time_series_16kHZ\" :librosa.resample(audio_time_series,orig_sr=sample_rate,target_sr=TARGET_SAMPLE_RATE),\n",
    "            \"sample_rate\"             :sample_rate\n",
    "        })"
   ]
  },
  {
   "cell_type": "code",
   "execution_count": null,
   "metadata": {},
   "outputs": [],
   "source": [
    "#Exportiert Samples nach Samples_Processed\n",
    "for entry in samples:\n",
    "    filepath = os.path.join(WRITE_PATH, entry[\"filename\"])\n",
    "    sf.write(file=filepath,data=entry[\"audio_time_series_16kHZ\"],samplerate=TARGET_SAMPLE_RATE, format=\"WAV\",subtype='PCM_16')"
   ]
  },
  {
   "cell_type": "markdown",
   "metadata": {},
   "source": [
    "## Testen"
   ]
  },
  {
   "cell_type": "code",
   "execution_count": null,
   "metadata": {},
   "outputs": [],
   "source": [
    "#Konstanten in ms\n",
    "FRAME_SIZE = 30\n",
    "HOP_SIZE = 10"
   ]
  },
  {
   "cell_type": "code",
   "execution_count": null,
   "metadata": {},
   "outputs": [],
   "source": [
    "#Lädt alle Samples\n",
    "samples = []\n",
    "\n",
    "for subdir, dirs, files in os.walk(WRITE_PATH):\n",
    "    for file in files:\n",
    "        #Lädt Audio\n",
    "        filepath = os.path.join(subdir, file)\n",
    "        song = AudioSegment.from_wav(filepath)\n",
    "\n",
    "        #Zerteilt Sample in kleine Parts\n",
    "        number_of_parts = (len(song) - FRAME_SIZE) / HOP_SIZE\n",
    "        for start in range(0,number_of_parts,HOP_SIZE):\n",
    "            part = song[start:start+FRAME_SIZE].get_array_of_samples()\n",
    "\n",
    "            samples.append({\n",
    "                \"filename\"                :file,\n",
    "                \"filepath\"                :filepath,\n",
    "                \"\"\n",
    "            })"
   ]
  },
  {
   "cell_type": "code",
   "execution_count": null,
   "metadata": {},
   "outputs": [],
   "source": [
    "len(song) /30"
   ]
  },
  {
   "cell_type": "code",
   "execution_count": null,
   "metadata": {},
   "outputs": [],
   "source": [
    "vad = webrtcvad.Vad()\n",
    "vad.is_speech(bytearray(song[1230:1260].get_array_of_samples()),TARGET_SAMPLE_RATE)"
   ]
  },
  {
   "cell_type": "markdown",
   "metadata": {},
   "source": [
    "# Silerio"
   ]
  },
  {
   "cell_type": "code",
   "execution_count": 1,
   "metadata": {},
   "outputs": [
    {
     "name": "stderr",
     "output_type": "stream",
     "text": [
      "c:\\Program Files\\Python39\\lib\\site-packages\\tqdm\\auto.py:22: TqdmWarning: IProgress not found. Please update jupyter and ipywidgets. See https://ipywidgets.readthedocs.io/en/stable/user_install.html\n",
      "  from .autonotebook import tqdm as notebook_tqdm\n"
     ]
    }
   ],
   "source": [
    "import torch"
   ]
  },
  {
   "cell_type": "code",
   "execution_count": 2,
   "metadata": {},
   "outputs": [
    {
     "name": "stdout",
     "output_type": "stream",
     "text": [
      "The repository is already trusted.\n"
     ]
    },
    {
     "name": "stderr",
     "output_type": "stream",
     "text": [
      "Downloading: \"https://github.com/snakers4/silero-vad/zipball/master\" to C:\\Users\\Jonas/.cache\\torch\\hub\\master.zip\n"
     ]
    }
   ],
   "source": [
    "model, util = torch.hub.load(\n",
    "    repo_or_dir='snakers4/silero-vad',\n",
    "    model='silero_vad',\n",
    "    force_reload=True,\n",
    "    trust_repo=False\n",
    ")"
   ]
  },
  {
   "cell_type": "code",
   "execution_count": 3,
   "metadata": {},
   "outputs": [
    {
     "name": "stderr",
     "output_type": "stream",
     "text": [
      "100%|██████████| 1.83M/1.83M [00:00<00:00, 12.1MB/s]\n"
     ]
    }
   ],
   "source": [
    "torch.hub.download_url_to_file('https://models.silero.ai/vad_models/en.wav', 'en_example.wav')"
   ]
  },
  {
   "cell_type": "code",
   "execution_count": 3,
   "metadata": {},
   "outputs": [
    {
     "data": {
      "text/plain": [
       "180282"
      ]
     },
     "execution_count": 3,
     "metadata": {},
     "output_type": "execute_result"
    }
   ],
   "source": [
    "#Parameter\n",
    "sum(p.numel() for p in model.parameters())"
   ]
  },
  {
   "cell_type": "code",
   "execution_count": 6,
   "metadata": {},
   "outputs": [
    {
     "data": {
      "text/plain": [
       "======================================================================\n",
       "Layer (type:depth-idx)                        Param #\n",
       "======================================================================\n",
       "VADRNNJITMerge                                --\n",
       "├─VADRNNJIT: 1-1                              --\n",
       "│    └─AdaptiveAudioNormalizationNew: 2-1     --\n",
       "│    └─STFT: 2-2                              --\n",
       "│    └─Sequential: 2-3                        --\n",
       "│    │    └─ConvBlock: 3-1                    9,836\n",
       "│    │    └─Dropout: 3-2                      --\n",
       "│    └─Sequential: 2-4                        --\n",
       "│    │    └─Conv1d: 3-3                       272\n",
       "│    │    └─BatchNorm1d: 3-4                  32\n",
       "│    │    └─ReLU: 3-5                         --\n",
       "│    │    └─Sequential: 3-6                   1,184\n",
       "│    │    └─Conv1d: 3-7                       1,056\n",
       "│    │    └─BatchNorm1d: 3-8                  64\n",
       "│    │    └─ReLU: 3-9                         --\n",
       "│    │    └─Sequential: 3-10                  1,248\n",
       "│    │    └─Conv1d: 3-11                      1,056\n",
       "│    │    └─BatchNorm1d: 3-12                 64\n",
       "│    │    └─ReLU: 3-13                        --\n",
       "│    │    └─Sequential: 3-14                  4,416\n",
       "│    │    └─Conv1d: 3-15                      4,160\n",
       "│    │    └─BatchNorm1d: 3-16                 128\n",
       "│    │    └─ReLU: 3-17                        --\n",
       "│    └─VADDecoderRNNJIT: 2-5                  --\n",
       "│    │    └─LSTM: 3-18                        66,560\n",
       "│    │    └─Sequential: 3-19                  65\n",
       "├─VADRNNJIT: 1-2                              --\n",
       "│    └─AdaptiveAudioNormalizationNew: 2-6     --\n",
       "│    └─STFT: 2-7                              --\n",
       "│    └─Sequential: 2-8                        --\n",
       "│    │    └─ConvBlock: 3-20                   9,836\n",
       "│    │    └─Dropout: 3-21                     --\n",
       "│    └─Sequential: 2-9                        --\n",
       "│    │    └─Conv1d: 3-22                      272\n",
       "│    │    └─BatchNorm1d: 3-23                 32\n",
       "│    │    └─ReLU: 3-24                        --\n",
       "│    │    └─Sequential: 3-25                  1,184\n",
       "│    │    └─Conv1d: 3-26                      1,056\n",
       "│    │    └─BatchNorm1d: 3-27                 64\n",
       "│    │    └─ReLU: 3-28                        --\n",
       "│    │    └─Sequential: 3-29                  1,248\n",
       "│    │    └─Conv1d: 3-30                      1,056\n",
       "│    │    └─BatchNorm1d: 3-31                 64\n",
       "│    │    └─ReLU: 3-32                        --\n",
       "│    │    └─Sequential: 3-33                  4,416\n",
       "│    │    └─Conv1d: 3-34                      4,160\n",
       "│    │    └─BatchNorm1d: 3-35                 128\n",
       "│    │    └─ReLU: 3-36                        --\n",
       "│    └─VADDecoderRNNJIT: 2-10                 --\n",
       "│    │    └─LSTM: 3-37                        66,560\n",
       "│    │    └─Sequential: 3-38                  65\n",
       "======================================================================\n",
       "Total params: 180,282\n",
       "Trainable params: 180,282\n",
       "Non-trainable params: 0\n",
       "======================================================================"
      ]
     },
     "execution_count": 6,
     "metadata": {},
     "output_type": "execute_result"
    }
   ],
   "source": [
    "from torchinfo import summary\n",
    "summary(model)"
   ]
  },
  {
   "cell_type": "code",
   "execution_count": null,
   "metadata": {},
   "outputs": [],
   "source": [
    "from pthflops import count_ops"
   ]
  },
  {
   "cell_type": "markdown",
   "metadata": {},
   "source": [
    "# Pyannote"
   ]
  },
  {
   "cell_type": "code",
   "execution_count": null,
   "metadata": {},
   "outputs": [],
   "source": []
  }
 ],
 "metadata": {
  "kernelspec": {
   "display_name": "Python 3",
   "language": "python",
   "name": "python3"
  },
  "language_info": {
   "codemirror_mode": {
    "name": "ipython",
    "version": 3
   },
   "file_extension": ".py",
   "mimetype": "text/x-python",
   "name": "python",
   "nbconvert_exporter": "python",
   "pygments_lexer": "ipython3",
   "version": "3.9.13"
  },
  "orig_nbformat": 4,
  "vscode": {
   "interpreter": {
    "hash": "11938c6bc6919ae2720b4d5011047913343b08a43b18698fd82dedb0d4417594"
   }
  }
 },
 "nbformat": 4,
 "nbformat_minor": 2
}
