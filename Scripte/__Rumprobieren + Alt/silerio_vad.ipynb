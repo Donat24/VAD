{
 "cells": [
  {
   "cell_type": "code",
   "execution_count": 2,
   "metadata": {},
   "outputs": [],
   "source": [
    "import torch\n",
    "import import_ipynb\n",
    "import simple_vad"
   ]
  },
  {
   "cell_type": "code",
   "execution_count": 2,
   "metadata": {},
   "outputs": [
    {
     "name": "stdout",
     "output_type": "stream",
     "text": [
      "The repository is already trusted.\n"
     ]
    },
    {
     "name": "stderr",
     "output_type": "stream",
     "text": [
      "Downloading: \"https://github.com/snakers4/silero-vad/zipball/master\" to C:\\Users\\Jonas/.cache\\torch\\hub\\master.zip\n"
     ]
    }
   ],
   "source": [
    "model, util = torch.hub.load(\n",
    "    repo_or_dir='snakers4/silero-vad',\n",
    "    model='silero_vad',\n",
    "    force_reload=True,\n",
    "    trust_repo=False\n",
    ")"
   ]
  },
  {
   "cell_type": "code",
   "execution_count": 3,
   "metadata": {},
   "outputs": [
    {
     "data": {
      "text/plain": [
       "180282"
      ]
     },
     "execution_count": 3,
     "metadata": {},
     "output_type": "execute_result"
    }
   ],
   "source": [
    "#Parameter\n",
    "sum(p.numel() for p in model.parameters())"
   ]
  },
  {
   "cell_type": "code",
   "execution_count": 4,
   "metadata": {},
   "outputs": [
    {
     "data": {
      "text/plain": [
       "======================================================================\n",
       "Layer (type:depth-idx)                        Param #\n",
       "======================================================================\n",
       "VADRNNJITMerge                                --\n",
       "├─VADRNNJIT: 1-1                              --\n",
       "│    └─AdaptiveAudioNormalizationNew: 2-1     --\n",
       "│    └─STFT: 2-2                              --\n",
       "│    └─Sequential: 2-3                        --\n",
       "│    │    └─ConvBlock: 3-1                    9,836\n",
       "│    │    └─Dropout: 3-2                      --\n",
       "│    └─Sequential: 2-4                        --\n",
       "│    │    └─Conv1d: 3-3                       272\n",
       "│    │    └─BatchNorm1d: 3-4                  32\n",
       "│    │    └─ReLU: 3-5                         --\n",
       "│    │    └─Sequential: 3-6                   1,184\n",
       "│    │    └─Conv1d: 3-7                       1,056\n",
       "│    │    └─BatchNorm1d: 3-8                  64\n",
       "│    │    └─ReLU: 3-9                         --\n",
       "│    │    └─Sequential: 3-10                  1,248\n",
       "│    │    └─Conv1d: 3-11                      1,056\n",
       "│    │    └─BatchNorm1d: 3-12                 64\n",
       "│    │    └─ReLU: 3-13                        --\n",
       "│    │    └─Sequential: 3-14                  4,416\n",
       "│    │    └─Conv1d: 3-15                      4,160\n",
       "│    │    └─BatchNorm1d: 3-16                 128\n",
       "│    │    └─ReLU: 3-17                        --\n",
       "│    └─VADDecoderRNNJIT: 2-5                  --\n",
       "│    │    └─LSTM: 3-18                        66,560\n",
       "│    │    └─Sequential: 3-19                  65\n",
       "├─VADRNNJIT: 1-2                              --\n",
       "│    └─AdaptiveAudioNormalizationNew: 2-6     --\n",
       "│    └─STFT: 2-7                              --\n",
       "│    └─Sequential: 2-8                        --\n",
       "│    │    └─ConvBlock: 3-20                   9,836\n",
       "│    │    └─Dropout: 3-21                     --\n",
       "│    └─Sequential: 2-9                        --\n",
       "│    │    └─Conv1d: 3-22                      272\n",
       "│    │    └─BatchNorm1d: 3-23                 32\n",
       "│    │    └─ReLU: 3-24                        --\n",
       "│    │    └─Sequential: 3-25                  1,184\n",
       "│    │    └─Conv1d: 3-26                      1,056\n",
       "│    │    └─BatchNorm1d: 3-27                 64\n",
       "│    │    └─ReLU: 3-28                        --\n",
       "│    │    └─Sequential: 3-29                  1,248\n",
       "│    │    └─Conv1d: 3-30                      1,056\n",
       "│    │    └─BatchNorm1d: 3-31                 64\n",
       "│    │    └─ReLU: 3-32                        --\n",
       "│    │    └─Sequential: 3-33                  4,416\n",
       "│    │    └─Conv1d: 3-34                      4,160\n",
       "│    │    └─BatchNorm1d: 3-35                 128\n",
       "│    │    └─ReLU: 3-36                        --\n",
       "│    └─VADDecoderRNNJIT: 2-10                 --\n",
       "│    │    └─LSTM: 3-37                        66,560\n",
       "│    │    └─Sequential: 3-38                  65\n",
       "======================================================================\n",
       "Total params: 180,282\n",
       "Trainable params: 180,282\n",
       "Non-trainable params: 0\n",
       "======================================================================"
      ]
     },
     "execution_count": 4,
     "metadata": {},
     "output_type": "execute_result"
    }
   ],
   "source": [
    "from torchinfo import summary\n",
    "summary(model)"
   ]
  },
  {
   "cell_type": "code",
   "execution_count": null,
   "metadata": {},
   "outputs": [],
   "source": []
  }
 ],
 "metadata": {
  "kernelspec": {
   "display_name": "Python 3",
   "language": "python",
   "name": "python3"
  },
  "language_info": {
   "codemirror_mode": {
    "name": "ipython",
    "version": 3
   },
   "file_extension": ".py",
   "mimetype": "text/x-python",
   "name": "python",
   "nbconvert_exporter": "python",
   "pygments_lexer": "ipython3",
   "version": "3.9.13 (tags/v3.9.13:6de2ca5, May 17 2022, 16:36:42) [MSC v.1929 64 bit (AMD64)]"
  },
  "orig_nbformat": 4,
  "vscode": {
   "interpreter": {
    "hash": "11938c6bc6919ae2720b4d5011047913343b08a43b18698fd82dedb0d4417594"
   }
  }
 },
 "nbformat": 4,
 "nbformat_minor": 2
}
