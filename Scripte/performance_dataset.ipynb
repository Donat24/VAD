{
 "cells": [
  {
   "cell_type": "code",
   "execution_count": 5,
   "metadata": {},
   "outputs": [],
   "source": [
    "import torch\n",
    "import torchaudio\n",
    "from torch import nn\n",
    "from torch.nn import functional as F\n",
    "from torch.utils.data import Dataset, DataLoader\n",
    "import os\n",
    "import matplotlib.pyplot as plt\n",
    "import pandas as pd\n",
    "from IPython.display import Audio\n",
    "from IPython.display import clear_output, display\n",
    "import json\n",
    "import librosa\n",
    "import librosa.display as dsp\n",
    "import math\n",
    "import datetime\n",
    "import time\n",
    "import numpy as np\n",
    "#import pedalboard\n",
    "import pyloudnorm as pyln\n",
    "import warnings\n",
    "import ast\n",
    "\n",
    "#Eigene Sachen\n",
    "from util.util import *\n",
    "from util.datasets import *\n",
    "from util.audio_processing import *"
   ]
  },
  {
   "cell_type": "code",
   "execution_count": 2,
   "metadata": {},
   "outputs": [],
   "source": [
    "#Konstante\n",
    "SAMPLE_RATE = 16000\n",
    "\n",
    "#Lädt CSV\n",
    "train_csv = pd.read_csv(r\"./data/train_test/train.csv\")\n",
    "train_csv[\"voice\"] = train_csv[\"voice\"].apply(ast.literal_eval)"
   ]
  },
  {
   "cell_type": "code",
   "execution_count": 3,
   "metadata": {},
   "outputs": [],
   "source": [
    "#File\n",
    "filedataset_train = LocalFileDataset(r\"D:\\Masterarbeit\\SAMPLES GENERATED\", data=train_csv, target_samplerate=SAMPLE_RATE)"
   ]
  },
  {
   "cell_type": "code",
   "execution_count": 23,
   "metadata": {},
   "outputs": [
    {
     "name": "stdout",
     "output_type": "stream",
     "text": [
      "25.7 s ± 1.91 s per loop (mean ± std. dev. of 7 runs, 1 loop each)\n"
     ]
    }
   ],
   "source": [
    "%%timeit\n",
    "for i in np.random.randint(0, len(file_dataset_train), size=1000):\n",
    "    waveform, sr, _ = file_dataset_train[i]"
   ]
  },
  {
   "cell_type": "code",
   "execution_count": 4,
   "metadata": {},
   "outputs": [],
   "source": [
    "#Tar\n",
    "filedataset_train = TarDataset(r\"D:/Masterarbeit/train.tar\", data=train_csv, target_samplerate=SAMPLE_RATE)"
   ]
  },
  {
   "cell_type": "code",
   "execution_count": 16,
   "metadata": {},
   "outputs": [
    {
     "name": "stdout",
     "output_type": "stream",
     "text": [
      "11.8 s ± 1.12 s per loop (mean ± std. dev. of 7 runs, 1 loop each)\n"
     ]
    }
   ],
   "source": [
    "%%timeit\n",
    "for i in np.random.randint(0, len(file_dataset_train), size=1000):\n",
    "    waveform, sr, _ = filedataset_train[i]"
   ]
  },
  {
   "cell_type": "code",
   "execution_count": 4,
   "metadata": {},
   "outputs": [
    {
     "name": "stdout",
     "output_type": "stream",
     "text": [
      "Batch 1:  32.93  s\n",
      "Batch 2:  16.50  s\n",
      "Batch 3:  11.00  s\n",
      "Batch 4:  8.97  s\n",
      "Batch 5:  7.18  s\n",
      "Batch 6:  5.98  s\n",
      "Batch 7:  5.13  s\n",
      "Batch 8:  4.51  s\n",
      "Batch 9:  4.01  s\n",
      "Batch 10:  3.61  s\n"
     ]
    }
   ],
   "source": [
    "from data.data import *\n",
    "\n",
    "#Variblen zur Messung\n",
    "N_BATCHES = 10\n",
    "\n",
    "#Speedcheck\n",
    "start = time.time()\n",
    "curr_time = time.time()\n",
    "\n",
    "for idx, (x, y) in enumerate(dataloader_train):\n",
    "    \n",
    "    #Batch\n",
    "    batch = idx + 1\n",
    "\n",
    "    #Aktualisiert Zeit\n",
    "    curr_time = time.time()\n",
    "    \n",
    "    #Print\n",
    "    print(f\"Batch {batch}: \", \"{:.2f}\".format((curr_time - start) / (idx + 1)), \" s\")\n",
    "\n",
    "    #Loop\n",
    "    if batch >= N_BATCHES:\n",
    "        break"
   ]
  }
 ],
 "metadata": {
  "kernelspec": {
   "display_name": "Python 3.9.13 64-bit",
   "language": "python",
   "name": "python3"
  },
  "language_info": {
   "codemirror_mode": {
    "name": "ipython",
    "version": 3
   },
   "file_extension": ".py",
   "mimetype": "text/x-python",
   "name": "python",
   "nbconvert_exporter": "python",
   "pygments_lexer": "ipython3",
   "version": "3.9.13"
  },
  "orig_nbformat": 4,
  "vscode": {
   "interpreter": {
    "hash": "11938c6bc6919ae2720b4d5011047913343b08a43b18698fd82dedb0d4417594"
   }
  }
 },
 "nbformat": 4,
 "nbformat_minor": 2
}
