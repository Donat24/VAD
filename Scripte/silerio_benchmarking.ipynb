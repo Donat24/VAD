{
 "cells": [
  {
   "cell_type": "code",
   "execution_count": 1,
   "metadata": {},
   "outputs": [
    {
     "name": "stderr",
     "output_type": "stream",
     "text": [
      "c:\\Program Files\\Python39\\lib\\site-packages\\numpy\\_distributor_init.py:30: UserWarning: loaded more than 1 DLL from .libs:\n",
      "c:\\Program Files\\Python39\\lib\\site-packages\\numpy\\.libs\\libopenblas.FB5AE2TYXYH2IJRDKGDGQ3XBKLKTF43H.gfortran-win_amd64.dll\n",
      "c:\\Program Files\\Python39\\lib\\site-packages\\numpy\\.libs\\libopenblas64__v0.3.21-gcc_10_3_0.dll\n",
      "  warnings.warn(\"loaded more than 1 DLL from .libs:\"\n"
     ]
    }
   ],
   "source": [
    "import torch\n",
    "import torchaudio\n",
    "import torchmetrics\n",
    "from torch import nn\n",
    "from torch.nn import functional as F\n",
    "from torch.utils.data import Dataset, DataLoader\n",
    "import os\n",
    "import matplotlib.pyplot as plt\n",
    "import pandas as pd\n",
    "from IPython.display import Audio\n",
    "from IPython.display import clear_output, display\n",
    "import json\n",
    "import librosa\n",
    "import librosa.display as dsp\n",
    "import math\n",
    "import datetime\n",
    "import time\n",
    "import numpy as np\n",
    "import ast\n",
    "\n",
    "#Eigene Sachen\n",
    "from data.data import *\n",
    "from util.util import *\n",
    "from util.datasets import *\n",
    "from util.audio_processing import *\n",
    "import util.plot as plot\n",
    "import models"
   ]
  },
  {
   "cell_type": "code",
   "execution_count": 2,
   "metadata": {},
   "outputs": [
    {
     "name": "stderr",
     "output_type": "stream",
     "text": [
      "Downloading: \"https://github.com/snakers4/silero-vad/zipball/master\" to C:\\Users\\Jonas/.cache\\torch\\hub\\master.zip\n",
      "C:\\Users\\Jonas\\AppData\\Roaming\\Python\\Python39\\site-packages\\torch\\nn\\modules\\module.py:1501: UserWarning: operator () profile_node %669 : int[] = prim::profile_ivalue(%667)\n",
      " does not have profile information (Triggered internally at C:\\actions-runner\\_work\\pytorch\\pytorch\\builder\\windows\\pytorch\\third_party\\nvfuser\\csrc\\graph_fuser.cpp:108.)\n",
      "  return forward_call(*args, **kwargs)\n"
     ]
    }
   ],
   "source": [
    "#Accuracy\n",
    "accuracy = torchmetrics.classification.BinaryAccuracy()\n",
    "\n",
    "#Ergebnis\n",
    "pred_total = []\n",
    "y_total    = []\n",
    "\n",
    "#Iterriert über Sample\n",
    "with torch.no_grad():\n",
    "        \n",
    "        #Iterriert Sample\n",
    "        for x, y in iter(models.silerio.DATASET):\n",
    "\n",
    "                #Prediction\n",
    "                pred = models.silerio.predict(x)\n",
    "                \n",
    "                #Kürzt auf Ende\n",
    "                pred = pred[ : y.size(0) ]\n",
    "                \n",
    "                #Fügt Total an\n",
    "                pred_total.append(pred)\n",
    "                y_total.append(y)\n",
    "\n",
    "#Tensor\n",
    "y_total    = torch.hstack(y_total)\n",
    "pred_total = torch.hstack(pred_total)\n",
    "\n",
    "#Print für Accuracy\n",
    "print(\"Accuracy auf Batch:\", accuracy(pred_total, y_total))"
   ]
  }
 ],
 "metadata": {
  "kernelspec": {
   "display_name": "Python 3.9.13 64-bit",
   "language": "python",
   "name": "python3"
  },
  "language_info": {
   "codemirror_mode": {
    "name": "ipython",
    "version": 3
   },
   "file_extension": ".py",
   "mimetype": "text/x-python",
   "name": "python",
   "nbconvert_exporter": "python",
   "pygments_lexer": "ipython3",
   "version": "3.9.13"
  },
  "orig_nbformat": 4,
  "vscode": {
   "interpreter": {
    "hash": "11938c6bc6919ae2720b4d5011047913343b08a43b18698fd82dedb0d4417594"
   }
  }
 },
 "nbformat": 4,
 "nbformat_minor": 2
}
