{
 "cells": [
  {
   "cell_type": "code",
   "execution_count": 4,
   "metadata": {},
   "outputs": [],
   "source": [
    "import torch\n",
    "import torchaudio\n",
    "import torchmetrics\n",
    "from torch import nn\n",
    "from torch.nn import functional as F\n",
    "from torch.utils.data import Dataset, DataLoader\n",
    "import os\n",
    "import matplotlib.pyplot as plt\n",
    "import pandas as pd\n",
    "from IPython.display import Audio\n",
    "from IPython.display import clear_output, display\n",
    "import json\n",
    "import librosa\n",
    "import librosa.display as dsp\n",
    "import math\n",
    "import datetime\n",
    "import time\n",
    "import numpy as np\n",
    "import ast\n",
    "\n",
    "#Eigene Sachen\n",
    "from data.data import *\n",
    "from util.util import *\n",
    "from util.datasets import *\n",
    "from util.audio_processing import *\n",
    "import util.plot as plot"
   ]
  },
  {
   "cell_type": "code",
   "execution_count": 3,
   "metadata": {},
   "outputs": [
    {
     "name": "stdout",
     "output_type": "stream",
     "text": [
      "The repository is already trusted.\n"
     ]
    },
    {
     "name": "stderr",
     "output_type": "stream",
     "text": [
      "Downloading: \"https://github.com/snakers4/silero-vad/zipball/master\" to C:\\Users\\Jonas/.cache\\torch\\hub\\master.zip\n"
     ]
    }
   ],
   "source": [
    "model, util = torch.hub.load(\n",
    "    repo_or_dir='snakers4/silero-vad',\n",
    "    model='silero_vad',\n",
    "    force_reload=True,\n",
    "    trust_repo=False\n",
    ")\n",
    "\n",
    "#EVAL\n",
    "model = model.eval()"
   ]
  },
  {
   "cell_type": "code",
   "execution_count": 54,
   "metadata": {},
   "outputs": [
    {
     "name": "stdout",
     "output_type": "stream",
     "text": [
      "Accuracy auf Batch: tensor(0.8942)\n"
     ]
    }
   ],
   "source": [
    "#MIN SAMPLE Länge für Silerio\n",
    "SAMPLE_LENGTH = 512\n",
    "\n",
    "#Accuracy\n",
    "accuracy = torchmetrics.classification.BinaryAccuracy()\n",
    "\n",
    "#Erstellt eigenes ChunkedDataset für Test\n",
    "speakdataset_test_silerio = ChunkedDataset(speakdataset_test_unchunked, SAMPLE_LENGTH, SAMPLE_LENGTH, False)\n",
    "\n",
    "#Ergebnis\n",
    "pred_total = []\n",
    "y_total    = []\n",
    "\n",
    "#Iterriert über Sample\n",
    "with torch.no_grad():\n",
    "        \n",
    "        #Iterriert Sample\n",
    "        for x, y in iter(speakdataset_test_silerio):\n",
    "\n",
    "                #Reset Model\n",
    "                model.reset_states()\n",
    "\n",
    "                #Prediction\n",
    "                pred = torch.zeros_like(y)\n",
    "\n",
    "                #Iterriert Samples\n",
    "                for pos, chunk in enumerate(x):\n",
    "                        \n",
    "                        start_pos = pos * chunk.size(-1)\n",
    "                        end_pos   = start_pos + chunk.size(-1)\n",
    "                        pred[start_pos : end_pos] = model(chunk, SAMPLE_RATE).item()\n",
    "                \n",
    "                #Fügt Total an\n",
    "                pred_total.append(pred)\n",
    "                y_total.append(y)\n",
    "\n",
    "#Tensor\n",
    "y_total    = torch.hstack(y_total)\n",
    "pred_total = torch.hstack(pred_total)\n",
    "\n",
    "#Print für Accuracy\n",
    "print(\"Accuracy auf Batch:\", accuracy(pred_total, y_total))"
   ]
  }
 ],
 "metadata": {
  "kernelspec": {
   "display_name": "Python 3.9.13 64-bit",
   "language": "python",
   "name": "python3"
  },
  "language_info": {
   "codemirror_mode": {
    "name": "ipython",
    "version": 3
   },
   "file_extension": ".py",
   "mimetype": "text/x-python",
   "name": "python",
   "nbconvert_exporter": "python",
   "pygments_lexer": "ipython3",
   "version": "3.9.13 (tags/v3.9.13:6de2ca5, May 17 2022, 16:36:42) [MSC v.1929 64 bit (AMD64)]"
  },
  "orig_nbformat": 4,
  "vscode": {
   "interpreter": {
    "hash": "11938c6bc6919ae2720b4d5011047913343b08a43b18698fd82dedb0d4417594"
   }
  }
 },
 "nbformat": 4,
 "nbformat_minor": 2
}
